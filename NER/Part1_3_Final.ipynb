{
 "cells": [
  {
   "cell_type": "markdown",
   "id": "7f23042a-5f2e-483f-b888-8ff2fcb9cfe3",
   "metadata": {},
   "source": [
    "# 1.1 Word Embedding"
   ]
  },
  {
   "cell_type": "code",
   "execution_count": 1,
   "id": "d6eb528a-a228-4d55-b62d-bd22b3a9c372",
   "metadata": {},
   "outputs": [],
   "source": [
    "import gensim.downloader\n",
    "\n",
    "# Download the embeddings\n",
    "w2v = gensim.downloader.load('word2vec-google-news-300')"
   ]
  },
  {
   "cell_type": "markdown",
   "id": "9fed0dd1-ea8d-4de5-bffc-86bc0ecc51ee",
   "metadata": {},
   "source": [
    "# 1.2 Data"
   ]
  },
  {
   "cell_type": "code",
   "execution_count": 2,
   "id": "94b01c90-86ab-4c87-96fd-66713adb92b4",
   "metadata": {},
   "outputs": [
    {
     "name": "stderr",
     "output_type": "stream",
     "text": [
      "/mnt/lustre/yuxin/anaconda3/envs/sc4002/lib/python3.8/site-packages/tqdm/auto.py:21: TqdmWarning: IProgress not found. Please update jupyter and ipywidgets. See https://ipywidgets.readthedocs.io/en/stable/user_install.html\n",
      "  from .autonotebook import tqdm as notebook_tqdm\n"
     ]
    }
   ],
   "source": [
    "import time\n",
    "import torch\n",
    "import torch.nn as nn\n",
    "from torch.nn.utils.rnn import pad_sequence\n",
    "from torch.utils.data import Dataset, DataLoader\n",
    "from torch.optim import SGD, Adagrad, Adam, RMSprop\n",
    "from datasets import Dataset\n",
    "\n",
    "import numpy as np\n",
    "\n",
    "import matplotlib.pyplot as plt\n",
    "\n",
    "from seqeval.metrics import f1_score\n",
    "from seqeval.metrics import classification_report\n",
    "from seqeval.scheme import IOB1"
   ]
  },
  {
   "cell_type": "code",
   "execution_count": 3,
   "id": "b79fcdfa-f1da-4c96-a145-298ab4952340",
   "metadata": {},
   "outputs": [],
   "source": [
    "# read data\n",
    "\n",
    "def read_conll_file(file_path):\n",
    "    with open(file_path, \"r\") as f:\n",
    "        content = f.read().strip()\n",
    "        sentences = content.split(\"\\n\\n\")\n",
    "        data = []\n",
    "        for sentence in sentences:\n",
    "            tokens = sentence.split(\"\\n\")\n",
    "            token_data = []\n",
    "            for token in tokens:\n",
    "                token_data.append(token.split())\n",
    "            data.append(token_data)\n",
    "    return data\n",
    "\n",
    "\n",
    "train_data = read_conll_file(\"/mnt/lustre/yuxin/SC4002_G06/datasets/CoNLL2003/eng.train\")\n",
    "validation_data = read_conll_file(\"/mnt/lustre/yuxin/SC4002_G06/datasets/CoNLL2003/eng.testa\")\n",
    "test_data = read_conll_file(\"/mnt/lustre/yuxin/SC4002_G06/datasets/CoNLL2003/eng.testb\")"
   ]
  },
  {
   "cell_type": "code",
   "execution_count": 4,
   "id": "5137c1c0-eecc-4ee5-a7b7-a0101c7a4b96",
   "metadata": {},
   "outputs": [],
   "source": [
    "# prepare data\n",
    "def convert_to_dataset(data, label_map):\n",
    "    formatted_data = {\"tokens\": [], \"ner_tags\": []}\n",
    "    for sentence in data:\n",
    "        tokens = [token_data[0] for token_data in sentence]\n",
    "        ner_tags = [label_map[token_data[3]] for token_data in sentence]\n",
    "        formatted_data[\"tokens\"].append(tokens)\n",
    "        formatted_data[\"ner_tags\"].append(ner_tags)\n",
    "    return Dataset.from_dict(formatted_data)\n",
    "\n",
    "\n",
    "label_list = sorted(list(set([token_data[3] for sentence in train_data for token_data in sentence])))\n",
    "label_map = {label: i for i, label in enumerate(label_list)}\n",
    "\n",
    "train_dataset = convert_to_dataset(train_data, label_map)\n",
    "validation_dataset = convert_to_dataset(validation_data, label_map)\n",
    "test_dataset = convert_to_dataset(test_data, label_map)"
   ]
  },
  {
   "cell_type": "markdown",
   "id": "80f7418a-e9e0-4f0c-91c8-b8d5193aedb3",
   "metadata": {},
   "source": [
    "# Dataset Preparation"
   ]
  },
  {
   "cell_type": "code",
   "execution_count": 5,
   "id": "ed55a4ea-ffcb-49c5-bc67-1f90ab083da5",
   "metadata": {},
   "outputs": [
    {
     "name": "stdout",
     "output_type": "stream",
     "text": [
      "word2idx['<UNK>']: 3000000\n",
      "word2idx['<PAD>']: 3000001\n"
     ]
    }
   ],
   "source": [
    "word2idx = w2v.key_to_index\n",
    "\n",
    "# Add '<UNK>' and '<PAD>' tokens to the vocabulary index\n",
    "word2idx['<UNK>'] = len(word2idx)\n",
    "word2idx['<PAD>'] = len(word2idx)\n",
    "\n",
    "print(f\"word2idx['<UNK>']: {word2idx['<UNK>']}\")\n",
    "print(f\"word2idx['<PAD>']: {word2idx['<PAD>']}\")\n",
    "\n",
    "# add the '<UNK>' word to the vocabulary of the Word2Vec model \n",
    "# initialize it with the average of all word vectors int he pretrained embeddings.\n",
    "unk_vector = np.mean(w2v.vectors, axis=0)\n",
    "w2v.vectors = np.vstack([w2v.vectors, unk_vector])\n",
    "\n",
    "# add the '<PAD>' word to the vocabulary of the Word2Vec model \n",
    "# initialize it with a row of zeros in the vectors matrix.\n",
    "w2v.vectors = np.vstack([w2v.vectors, np.zeros(w2v.vectors[0].shape)])"
   ]
  },
  {
   "cell_type": "code",
   "execution_count": 6,
   "id": "2f8cd84b-8caf-4486-ab9e-e000ef503aa5",
   "metadata": {},
   "outputs": [],
   "source": [
    "# Map words to Indices\n",
    "def sentence_to_indices(sentence, vocab):\n",
    "    return [vocab.get(word, vocab.get('<UNK>')) for word in sentence]\n",
    "\n",
    "tag2idx = {\n",
    "    'B-LOC': 0,\n",
    "    'B-MISC': 1,\n",
    "    'B-ORG': 2,\n",
    "    'I-LOC': 3,\n",
    "    'I-MISC': 4,\n",
    "    'I-ORG': 5,\n",
    "    'I-PER': 6,\n",
    "    'O': 7,\n",
    "    'PAD': 8\n",
    "}\n",
    "\n",
    "class NERDataset(Dataset):\n",
    "    def __init__(self, sentences, tags, vocab):\n",
    "        self.sentences = [torch.tensor(sentence_to_indices(sentence, vocab)) for sentence in sentences]\n",
    "        self.tags = [torch.tensor(tag) for tag in tags]\n",
    "\n",
    "    def __len__(self):\n",
    "        return len(self.sentences)\n",
    "\n",
    "    def __getitem__(self, idx):\n",
    "        return self.sentences[idx], self.tags[idx]\n",
    "\n",
    "# Create PyTorch datasets and data loaders\n",
    "train_dataset = NERDataset(train_dataset['tokens'], train_dataset['ner_tags'], word2idx)\n",
    "validation_dataset = NERDataset(validation_dataset['tokens'], validation_dataset['ner_tags'], word2idx)\n",
    "test_dataset = NERDataset(test_dataset['tokens'], test_dataset['ner_tags'], word2idx)\n",
    "\n",
    "def collate_fn(batch):\n",
    "    sentences, tags = zip(*batch)\n",
    "    sentences_padded = pad_sequence(sentences, batch_first=True, padding_value=word2idx['<PAD>'])\n",
    "    tags_padded = pad_sequence(tags, batch_first=True, padding_value=tag2idx['PAD'])\n",
    "    return sentences_padded, tags_padded"
   ]
  },
  {
   "cell_type": "markdown",
   "id": "4e7891e6-272f-49fa-9d63-19049f999a10",
   "metadata": {},
   "source": [
    "# 1.3 Model"
   ]
  },
  {
   "cell_type": "code",
   "execution_count": 7,
   "id": "16c36319-becd-4f14-be61-614cc35852e2",
   "metadata": {},
   "outputs": [],
   "source": [
    "embedding_matrix = torch.FloatTensor(w2v.vectors)\n",
    "\n",
    "class BiLSTMNERModel(nn.Module):\n",
    "    def __init__(self, embedding_dim, hidden_dim, num_of_layers, output_dim):\n",
    "        super(BiLSTMNERModel, self).__init__()\n",
    "        self.embedding = nn.Embedding.from_pretrained(embedding_matrix, padding_idx=word2idx['<PAD>'], freeze=True)\n",
    "        self.lstm = nn.LSTM(embedding_dim, hidden_dim, num_of_layers, batch_first=True, bidirectional=True)\n",
    "        self.fc = nn.Linear(hidden_dim*2, output_dim)\n",
    "\n",
    "    def forward(self, x):\n",
    "        x = self.embedding(x)\n",
    "        lstm_out, _ = self.lstm(x)\n",
    "        tag_space = self.fc(lstm_out)\n",
    "        tag_scores = torch.log_softmax(tag_space, dim=-1)\n",
    "        return tag_scores"
   ]
  },
  {
   "cell_type": "markdown",
   "id": "1f6fbbae-6788-4067-85c8-23ed010199e6",
   "metadata": {},
   "source": [
    "# Utilities"
   ]
  },
  {
   "cell_type": "code",
   "execution_count": 8,
   "id": "3beb52ff-de17-4f67-899c-6b7e8dc58802",
   "metadata": {},
   "outputs": [
    {
     "name": "stdout",
     "output_type": "stream",
     "text": [
      "EMBEDDING_DIM: 300\n",
      "VOCAB_SIZE: 3000002\n",
      "TAGSET_SIZE: 9\n"
     ]
    }
   ],
   "source": [
    "EMBEDDING_DIM = w2v[0].shape[0]\n",
    "VOCAB_SIZE = len(word2idx)\n",
    "TAGSET_SIZE = len(tag2idx)\n",
    "MAX_EPOCHS = 50\n",
    "print(f\"EMBEDDING_DIM: {EMBEDDING_DIM}\")\n",
    "print(f\"VOCAB_SIZE: {VOCAB_SIZE}\")\n",
    "print(f\"TAGSET_SIZE: {TAGSET_SIZE}\")\n",
    "\n",
    "# Hyperparameters\n",
    "BSET_HIDDEN_DIM = 256\n",
    "BEST_NUM_LAYERS = 3\n",
    "OPTIMIZER = RMSprop\n",
    "LEARNING_RATE = 0.001\n",
    "BATCH_SIZE = 16\n",
    "\n",
    "idx2tag = {v: k for k, v in tag2idx.items()}\n",
    "def idx_to_tags(indices):\n",
    "    return [idx2tag[idx] for idx in indices]\n",
    "\n",
    "class EarlyStopper:\n",
    "    def __init__(self, patience=5):\n",
    "        self.patience = patience\n",
    "        self.counter = 0\n",
    "        self.max_f1 = 0\n",
    "\n",
    "    def early_stop(self, f1):\n",
    "        if f1 > self.max_f1:\n",
    "            self.max_f1 = f1\n",
    "            self.counter = 0\n",
    "        else:\n",
    "            self.counter += 1\n",
    "            if self.counter >= self.patience:\n",
    "                return True\n",
    "        return False"
   ]
  },
  {
   "cell_type": "code",
   "execution_count": 9,
   "id": "a55757fa-5020-481d-b1c1-ba3faa21062e",
   "metadata": {},
   "outputs": [],
   "source": [
    "def evaluate(model, validation_loader, device):\n",
    "    print(\"evaluate.....\")\n",
    "    # Evaluate on the validation dataset\n",
    "    # Placeholder to store true and predicted tags\n",
    "    y_true = [] # true tags\n",
    "    y_pred = [] # predicted tags\n",
    "        \n",
    "    # Evaluate the model on the validation dataset\n",
    "    model.eval()  # Set the model to evaluation mode\n",
    "    with torch.no_grad():\n",
    "        for sentences, tags in validation_loader:\n",
    "            # Move the data to the GPU\n",
    "            sentences, tags = sentences.to(device), tags.to(device)\n",
    "            tag_scores = model(sentences)\n",
    "            # print(tag_scores.device)\n",
    "            predictions = tag_scores.argmax(dim=-1).tolist()\n",
    "            # print(predictions)\n",
    "                \n",
    "            # Convert index to tags\n",
    "            # Note: filtering out padding tokens\n",
    "            for sentence, true_seq, pred_seq in zip(sentences, tags.tolist(), predictions):\n",
    "                valid_length = (sentence != word2idx['<PAD>']).sum().item()\n",
    "                true_tags = [idx2tag[idx] for idx in true_seq[:valid_length]]\n",
    "                pred_tags = [idx2tag[idx] for idx in pred_seq[:valid_length]]\n",
    "                y_true.append(true_tags)\n",
    "                y_pred.append(pred_tags)\n",
    "        \n",
    "    # Compute F1 score\n",
    "    f1 = f1_score(y_true, y_pred)\n",
    "    return f1"
   ]
  },
  {
   "cell_type": "markdown",
   "id": "a4151db2-915d-481c-9695-77186a1aa40d",
   "metadata": {},
   "source": [
    "# Compile"
   ]
  },
  {
   "cell_type": "code",
   "execution_count": 10,
   "id": "0e3eeb3c-3602-436f-a77e-c0808766d641",
   "metadata": {},
   "outputs": [
    {
     "name": "stdout",
     "output_type": "stream",
     "text": [
      "Running on device: cuda:0\n"
     ]
    }
   ],
   "source": [
    "device = torch.device(\"cuda:0\" if torch.cuda.is_available() else \"cpu\")\n",
    "print(f\"Running on device: {device}\")\n",
    "\n",
    "# set up model\n",
    "model = BiLSTMNERModel(EMBEDDING_DIM, BSET_HIDDEN_DIM, BEST_NUM_LAYERS, TAGSET_SIZE).to(device)\n",
    "loss_function = nn.NLLLoss(ignore_index=tag2idx['PAD']).to(device)\n",
    "optimizer = OPTIMIZER(model.parameters(), lr=LEARNING_RATE)"
   ]
  },
  {
   "cell_type": "code",
   "execution_count": 11,
   "id": "5a4c3510-b376-4558-949d-366d72a077c8",
   "metadata": {},
   "outputs": [
    {
     "name": "stdout",
     "output_type": "stream",
     "text": [
      "BiLSTMNERModel(\n",
      "  (embedding): Embedding(3000002, 300, padding_idx=3000001)\n",
      "  (lstm): LSTM(300, 256, num_layers=3, batch_first=True, bidirectional=True)\n",
      "  (fc): Linear(in_features=512, out_features=9, bias=True)\n",
      ")\n"
     ]
    }
   ],
   "source": [
    "# Print model structure and parameters\n",
    "print(model)"
   ]
  },
  {
   "cell_type": "markdown",
   "id": "1ac91c1e-fa41-4e68-951b-870d4ead9119",
   "metadata": {},
   "source": [
    "# Train"
   ]
  },
  {
   "cell_type": "code",
   "execution_count": 13,
   "id": "95edd4a2-e716-4f97-ac4e-e074d88ddbbe",
   "metadata": {},
   "outputs": [
    {
     "name": "stdout",
     "output_type": "stream",
     "text": [
      "evaluate.....\n",
      "Epoch 1, loss: 0.003185664823827511, f1_score: 0.9015526647083508\n",
      "evaluate.....\n",
      "Epoch 2, loss: 0.0033340883041139777, f1_score: 0.9044123850501983\n",
      "evaluate.....\n",
      "Epoch 3, loss: 0.0028097356891510325, f1_score: 0.9060334629034984\n",
      "evaluate.....\n",
      "Epoch 4, loss: 0.002853657932676493, f1_score: 0.9070080862533694\n",
      "evaluate.....\n",
      "Epoch 5, loss: 0.0031620242343302165, f1_score: 0.9024102477667285\n",
      "evaluate.....\n",
      "Epoch 6, loss: 0.003060637986645806, f1_score: 0.9065539112050741\n",
      "evaluate.....\n",
      "Epoch 7, loss: 0.0025221883794955876, f1_score: 0.9020596889449349\n",
      "evaluate.....\n",
      "Epoch 8, loss: 0.0028589506877485195, f1_score: 0.9044553616805013\n",
      "evaluate.....\n",
      "Epoch 9, loss: 0.002977222643162961, f1_score: 0.90459244195899\n",
      "Stopping early at epoch 9\n",
      "Total training time: 76.5036289691925s\n"
     ]
    }
   ],
   "source": [
    "# Initialize dataloaders\n",
    "train_loader = DataLoader(train_dataset, BATCH_SIZE, shuffle=True, collate_fn=collate_fn)\n",
    "validation_loader = DataLoader(validation_dataset, BATCH_SIZE, shuffle=False, collate_fn=collate_fn)\n",
    "test_loader = DataLoader(test_dataset, BATCH_SIZE, shuffle=False, collate_fn=collate_fn)\n",
    "\n",
    "# Initialize early stopper\n",
    "early_stopper = EarlyStopper()\n",
    "\n",
    "# Metrics and checkpoint initialization\n",
    "best_f1_score = 0\n",
    "metrics = {'f1': [], 'loss': [], 'epoch_time': []}\n",
    "total_start_time = time.time()\n",
    "\n",
    "# Training loop\n",
    "for epoch in range(MAX_EPOCHS):\n",
    "    epoch_start_time = time.time()\n",
    "    \n",
    "    total_loss = 0\n",
    "    model.train()  # Make sure the model is in training mode\n",
    "    for sentences, tags in train_loader:\n",
    "        sentences, tags = sentences.to(device), tags.to(device)  # Move data to GPU\n",
    "        model.zero_grad()\n",
    "        tag_scores = model(sentences)\n",
    "        loss = loss_function(tag_scores.view(-1, TAGSET_SIZE), tags.view(-1))\n",
    "        loss.backward()\n",
    "        optimizer.step()\n",
    "        total_loss += loss.item()\n",
    "    \n",
    "    epoch_loss = total_loss / len(train_loader)\n",
    "    metrics['loss'].append(epoch_loss)\n",
    "\n",
    "    f1 = evaluate(model, validation_loader, device)\n",
    "    metrics['f1'].append(f1)\n",
    "    \n",
    "    print(f\"Epoch {epoch+1}, loss: {epoch_loss}, f1_score: {f1}\")\n",
    "    \n",
    "    # Early stopping check\n",
    "    if early_stopper.early_stop(f1):\n",
    "        print(f\"Stopping early at epoch {epoch+1}\")\n",
    "        break\n",
    "        \n",
    "    epoch_time = time.time() - epoch_start_time\n",
    "    metrics['epoch_time'].append(epoch_time)\n",
    "\n",
    "    # Save the best model\n",
    "    # if f1 > best_f1_score:\n",
    "    #     best_f1_score = f1\n",
    "    #     best_model_state = model.state_dict()\n",
    "    #     torch.save(best_model_state, 'best_model.pth')\n",
    "\n",
    "total_train_time = time.time() - total_start_time\n",
    "print(f\"Total training time: {total_train_time}s\")"
   ]
  },
  {
   "cell_type": "code",
   "execution_count": null,
   "id": "a7dc4793-2ca9-48cc-8f36-2581da574aa6",
   "metadata": {},
   "outputs": [],
   "source": [
    "torch.save(model.to('cpu').state_dict(), 'best_model.pth')"
   ]
  },
  {
   "cell_type": "code",
   "execution_count": 14,
   "id": "9ae52f36-1ae5-407b-b998-fb0fe3aaa7cf",
   "metadata": {},
   "outputs": [
    {
     "data": {
      "image/png": "[encoded data removed]",
      "text/plain": [
       "<Figure size 1500x500 with 2 Axes>"
      ]
     },
     "metadata": {},
     "output_type": "display_data"
    },
    {
     "data": {
      "text/plain": [
       "<Figure size 640x480 with 0 Axes>"
      ]
     },
     "metadata": {},
     "output_type": "display_data"
    }
   ],
   "source": [
    "# Plotting\n",
    "plt.figure(figsize=(15, 5))\n",
    "\n",
    "# F1 Score subplot\n",
    "plt.subplot(1, 2, 1)  # 1 row, 2 columns, 1st subplot\n",
    "plt.plot(metrics['f1'], label='F1 Score', color='blue')\n",
    "plt.xlabel('Epochs')\n",
    "plt.ylabel('F1 Score')\n",
    "plt.title('F1 Score over Training Epochs')\n",
    "plt.legend()\n",
    "\n",
    "# Training Loss subplot\n",
    "plt.subplot(1, 2, 2)  # 1 row, 2 columns, 2nd subplot\n",
    "plt.plot(metrics['loss'], label='Loss', color='red')\n",
    "plt.xlabel('Epochs')\n",
    "plt.ylabel('Loss')\n",
    "plt.title('Training Loss over Training Epochs')\n",
    "plt.legend()\n",
    "\n",
    "plt.tight_layout()\n",
    "plt.show()\n",
    "plt.savefig('train.png')"
   ]
  },
  {
   "cell_type": "markdown",
   "id": "357106ab-794d-46b3-9ae6-30025713a793",
   "metadata": {},
   "source": [
    "# Test"
   ]
  },
  {
   "cell_type": "code",
   "execution_count": 15,
   "id": "5fb37fd0-79a5-4430-893e-269bd6ab2c8f",
   "metadata": {},
   "outputs": [
    {
     "name": "stdout",
     "output_type": "stream",
     "text": [
      "F1 Score on Test Set: 0.857016064613473\n",
      "Classification Report on Test Set:\n",
      "               precision    recall  f1-score   support\n",
      "\n",
      "         LOC       0.89      0.91      0.90      1668\n",
      "        MISC       0.75      0.72      0.73       702\n",
      "         ORG       0.83      0.82      0.82      1661\n",
      "         PER       0.91      0.89      0.90      1617\n",
      "\n",
      "   micro avg       0.86      0.85      0.86      5648\n",
      "   macro avg       0.84      0.84      0.84      5648\n",
      "weighted avg       0.86      0.85      0.86      5648\n",
      "\n",
      "Test evaluation time: 0.7636592388153076 seconds\n"
     ]
    }
   ],
   "source": [
    "# Placeholder to store true and predicted tags for the test set\n",
    "y_true_test = []\n",
    "y_pred_test = []\n",
    "\n",
    "# Evaluate the model on the test dataset\n",
    "model.eval()  # Set the model to evaluation mode\n",
    "\n",
    "# Start the clock for timing the test evaluation\n",
    "start_time = time.time()\n",
    "\n",
    "with torch.no_grad():\n",
    "    for sentences, tags in test_loader:\n",
    "        sentences = sentences.to(device)\n",
    "        tag_scores = model(sentences)\n",
    "        predictions = tag_scores.argmax(dim=-1).tolist()\n",
    "        \n",
    "        # Convert index to tags\n",
    "        # Note: filtering out padding tokens\n",
    "        for sentence, true_seq, pred_seq in zip(sentences, tags.tolist(), predictions):\n",
    "            valid_length = (sentence != word2idx['<PAD>']).sum().item()\n",
    "            true_tags = [idx2tag[idx] for idx in true_seq[:valid_length]]\n",
    "            pred_tags = [idx2tag[idx] for idx in pred_seq[:valid_length]]\n",
    "            y_true_test.append(true_tags)\n",
    "            y_pred_test.append(pred_tags)\n",
    "\n",
    "# Stop the clock after the test evaluation\n",
    "end_time = time.time()\n",
    "test_time = end_time - start_time\n",
    "\n",
    "# Compute F1 score for the test set\n",
    "f1_test = f1_score(y_true_test, y_pred_test)\n",
    "report_test = classification_report(y_true_test, y_pred_test)\n",
    "\n",
    "print(\"F1 Score on Test Set:\", f1_test)\n",
    "print(\"Classification Report on Test Set:\\n\", report_test)\n",
    "print(f\"Test evaluation time: {test_time} seconds\")"
   ]
  },
  {
   "cell_type": "markdown",
   "id": "ba348d69-b6d4-4a7e-b529-ce4208a5be12",
   "metadata": {},
   "source": [
    "# Inference"
   ]
  },
  {
   "cell_type": "code",
   "execution_count": 24,
   "id": "fc649952-2d63-40bd-87cf-56b6e68f2268",
   "metadata": {
    "scrolled": true
   },
   "outputs": [
    {
     "name": "stdout",
     "output_type": "stream",
     "text": [
      "Barack  Obama  was  born  in  Hawaii  and  worked  as  the  President  of  the  United  States.  \n",
      "I-PER   I-PER  O    O     O   I-LOC   O    O       O   O    O          O   O    I-ORG   I-ORG    \n",
      "\n",
      "Jiang  Yuxin  was  born  in  Shenyang  and  is  now  a  student  in  Nanyang  Technological  University.  \n",
      "I-PER  O      O    O     O   I-LOC     O    O   O    O  O        O   I-LOC    I-LOC          O            \n"
     ]
    }
   ],
   "source": [
    "def infer(sentence):\n",
    "    # Tokenize the sentence\n",
    "    tokens = sentence.split()\n",
    "\n",
    "    # Convert tokens to indices\n",
    "    token_indices = torch.tensor([sentence_to_indices(tokens, word2idx)]).to(device)\n",
    "\n",
    "    # Get predictions from the model\n",
    "    model.eval()\n",
    "    with torch.no_grad():\n",
    "        tag_scores = model(token_indices)\n",
    "        predictions = tag_scores.argmax(dim=-1).tolist()[0]\n",
    "\n",
    "    # Convert index to tags\n",
    "    predicted_tags = idx_to_tags(predictions)\n",
    "\n",
    "    \"\"\"\n",
    "    # Display the results\n",
    "    for token, tag in zip(tokens, predicted_tags):\n",
    "        print(f\"{token}: {tag}\")\n",
    "    \"\"\"\n",
    "    # Prepare aligned output\n",
    "    token_line = \"\"\n",
    "    tag_line = \"\"\n",
    "    for token, tag in zip(tokens, predicted_tags):\n",
    "        space_padding = max(len(token), len(tag)) + 2  # +2 to add some space between words for better readability\n",
    "        token_line += token.ljust(space_padding)\n",
    "        tag_line += tag.ljust(space_padding)\n",
    "\n",
    "    # Display the results\n",
    "    print(token_line)\n",
    "    print(tag_line)\n",
    "\n",
    "\n",
    "# Example usage:\n",
    "sentence = \"EU rejects German call to boycott British lamb .\"\n",
    "sentence = \"Barack Obama was born in Hawaii and worked as the President of the United States.\"\n",
    "infer(sentence)\n",
    "print()\n",
    "sentence = \"Jiang Yuxin was born in Shenyang and is now a student in Nanyang Technological University.\"\n",
    "infer(sentence)"
   ]
  },
  {
   "cell_type": "code",
   "execution_count": null,
   "id": "3093241f-ed65-4106-8920-81120c4c9626",
   "metadata": {},
   "outputs": [],
   "source": []
  },
  {
   "cell_type": "code",
   "execution_count": null,
   "id": "fc65c947-42cb-4808-bbc8-a2ee619fce9f",
   "metadata": {},
   "outputs": [],
   "source": []
  }
 ],
 "metadata": {
  "kernelspec": {
   "display_name": "sc4002",
   "language": "python",
   "name": "sc4002"
  },
  "language_info": {
   "codemirror_mode": {
    "name": "ipython",
    "version": 3
   },
   "file_extension": ".py",
   "mimetype": "text/x-python",
   "name": "python",
   "nbconvert_exporter": "python",
   "pygments_lexer": "ipython3",
   "version": "3.8.15"
  }
 },
 "nbformat": 4,
 "nbformat_minor": 5
}
