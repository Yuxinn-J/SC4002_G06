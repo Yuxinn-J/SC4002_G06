{
 "cells": [
  {
   "cell_type": "markdown",
   "id": "9fed0dd1-ea8d-4de5-bffc-86bc0ecc51ee",
   "metadata": {},
   "source": [
    "# 1.2 Data"
   ]
  },
  {
   "cell_type": "code",
   "execution_count": 1,
   "id": "e7ffaf7b-909b-4d22-9895-e5f771cfcb7f",
   "metadata": {},
   "outputs": [
    {
     "name": "stderr",
     "output_type": "stream",
     "text": [
      "/mnt/lustre/yuxin/anaconda3/envs/sc4002/lib/python3.8/site-packages/tqdm/auto.py:21: TqdmWarning: IProgress not found. Please update jupyter and ipywidgets. See https://ipywidgets.readthedocs.io/en/stable/user_install.html\n",
      "  from .autonotebook import tqdm as notebook_tqdm\n"
     ]
    }
   ],
   "source": [
    "from datasets import Dataset, DatasetDict"
   ]
  },
  {
   "cell_type": "code",
   "execution_count": 2,
   "id": "b79fcdfa-f1da-4c96-a145-298ab4952340",
   "metadata": {},
   "outputs": [],
   "source": [
    "# read data\n",
    "def read_conll_file(file_path):\n",
    "    with open(file_path, \"r\") as f:\n",
    "        content = f.read().strip()\n",
    "        sentences = content.split(\"\\n\\n\")\n",
    "        data = []\n",
    "        for sentence in sentences:\n",
    "            tokens = sentence.split(\"\\n\")\n",
    "            token_data = []\n",
    "            for token in tokens:\n",
    "                token_data.append(token.split())\n",
    "            data.append(token_data)\n",
    "    return data\n",
    "\n",
    "train_data = read_conll_file(\"/mnt/lustre/yuxin/SC4002_G06/datasets/CoNLL2003/eng.train\")\n",
    "validation_data = read_conll_file(\"/mnt/lustre/yuxin/SC4002_G06/datasets/CoNLL2003/eng.testa\")\n",
    "test_data = read_conll_file(\"/mnt/lustre/yuxin/SC4002_G06/datasets/CoNLL2003/eng.testb\")"
   ]
  },
  {
   "cell_type": "code",
   "execution_count": 3,
   "id": "5137c1c0-eecc-4ee5-a7b7-a0101c7a4b96",
   "metadata": {},
   "outputs": [],
   "source": [
    "# prepare data\n",
    "def convert_to_dataset(data, label_map):\n",
    "    formatted_data = {\"tokens\": [], \"ner_tags\": []}\n",
    "    for sentence in data:\n",
    "        tokens = [token_data[0] for token_data in sentence]\n",
    "        ner_tags = [label_map[token_data[3]] for token_data in sentence]\n",
    "        formatted_data[\"tokens\"].append(tokens)\n",
    "        formatted_data[\"ner_tags\"].append(ner_tags)\n",
    "    return Dataset.from_dict(formatted_data)\n",
    "\n",
    "label_list = sorted(list(set([token_data[3] for sentence in train_data for token_data in sentence])))\n",
    "label_map = {label: i for i, label in enumerate(label_list)}\n",
    "\n",
    "train_dataset = convert_to_dataset(train_data, label_map)\n",
    "validation_dataset = convert_to_dataset(validation_data, label_map)\n",
    "test_dataset = convert_to_dataset(test_data, label_map)"
   ]
  },
  {
   "cell_type": "markdown",
   "id": "80f7418a-e9e0-4f0c-91c8-b8d5193aedb3",
   "metadata": {},
   "source": [
    "## Question 1.2\n",
    "(a) Describe the size (number of sentences) of the training, development and test file for CoNLL2003.\r\n",
    "Specify the complete set of all possible word labels based on the tagging scheme (IO, BIO,\r\n",
    "etc.) you chos\n",
    "\n",
    "(b) Choose an example sentence from the training set of CoNLL2003 that has at least two named\r\n",
    "entities with more than one word. Explain how to form complete named entities from the label\r\n",
    "for each word, and list all the named entities in this sentence.e."
   ]
  },
  {
   "cell_type": "code",
   "execution_count": 4,
   "id": "9d9872e9-d094-4cde-bcc9-656d81121a4d",
   "metadata": {},
   "outputs": [
    {
     "name": "stdout",
     "output_type": "stream",
     "text": [
      "Dataset Sizes:\n",
      "Training:\t14987 sentences\n",
      "Development:\t3466 sentences\n",
      "Test:\t\t3684 sentences\n",
      "=======================================================================\n",
      "All Possible Word Labels (BIO):\n",
      " ['B-LOC', 'B-MISC', 'B-ORG', 'I-LOC', 'I-MISC', 'I-ORG', 'I-PER', 'O']\n"
     ]
    }
   ],
   "source": [
    "# (a)\n",
    "print(\"Dataset Sizes:\")\n",
    "print(f\"Training:\\t{train_dataset.num_rows} sentences\")\n",
    "print(f\"Development:\\t{validation_dataset.num_rows} sentences\")\n",
    "print(f\"Test:\\t\\t{test_dataset.num_rows} sentences\")\n",
    "\n",
    "print(\"=======================================================================\")\n",
    "print(\"All Possible Word Labels (BIO):\\n\", label_list)"
   ]
  },
  {
   "cell_type": "code",
   "execution_count": 6,
   "id": "6ba94ac9-092b-4633-84a6-a030665ec39c",
   "metadata": {},
   "outputs": [
    {
     "name": "stderr",
     "output_type": "stream",
     "text": [
      " 40%|██████████████████████████▎                                       | 5969/14987 [18:51<28:30,  5.27it/s]"
     ]
    },
    {
     "name": "stdout",
     "output_type": "stream",
     "text": [
      "5969\n",
      "['Swiss', 'Grand', 'Prix', 'World', 'Cup', 'cycling', 'race', 'on', 'Sunday', ':']\n",
      "[4, 1, 4, 1, 4, 7, 7, 7, 7, 7]\n",
      "['I-MISC', 'B-MISC', 'I-MISC', 'B-MISC', 'I-MISC', 'O', 'O', 'O', 'O', 'O']\n"
     ]
    },
    {
     "name": "stderr",
     "output_type": "stream",
     "text": [
      "\n"
     ]
    }
   ],
   "source": [
    "from tqdm import tqdm\n",
    "lists2 = [0,1,2] # ['B-LOC', 'B-MISC', 'B-ORG']\n",
    "\n",
    "def has_at_least_two_common_elements(list1, list2=[0,1,2]):\n",
    "    common_elements = [value for value in list1 if value in list2]\n",
    "    return len(common_elements) >= 2\n",
    "    \n",
    "for i in tqdm(range(len(train_dataset))):\n",
    "    tokens = train_dataset['tokens'][i]\n",
    "    ner_tags = train_dataset['ner_tags'][i]\n",
    "\n",
    "    if has_at_least_two_common_elements(ner_tags):\n",
    "        print(i)\n",
    "        print(tokens)\n",
    "        print(ner_tags)\n",
    "        print([label_list[tag] for tag in ner_tags])\n",
    "        break"
   ]
  },
  {
   "cell_type": "code",
   "execution_count": 7,
   "id": "6727b54b-68b9-42bf-9afb-435035b92e88",
   "metadata": {},
   "outputs": [
    {
     "name": "stdout",
     "output_type": "stream",
     "text": [
      "(['Swiss', 'Grand Prix', 'World Cup'], ['I-MISC', 'B-MISC I-MISC', 'B-MISC I-MISC'])\n"
     ]
    }
   ],
   "source": [
    "# (b)\n",
    "def form_complete_ne(dataset, i):\n",
    "    # define sets of tags\n",
    "    begin_tags = {'B-LOC', 'B-ORG', 'B-MISC'}\n",
    "    inside_tags = {'I-ORG', 'I-LOC', 'I-PER', 'I-MISC'}\n",
    "    outside_tags = {'O'}\n",
    "    \n",
    "    words = []\n",
    "    word = []\n",
    "    entities = []\n",
    "    entity = []\n",
    "    \n",
    "    tokens = dataset['tokens'][i]\n",
    "    ner_tags = dataset['ner_tags'][i]\n",
    "    \n",
    "    for token, tag in zip(tokens, ner_tags):\n",
    "        tag = label_list[tag]\n",
    "        \n",
    "        if (tag in begin_tags or tag in outside_tags) and word:\n",
    "            words.append(' '.join(word))\n",
    "            entities.append(' '.join(entity))\n",
    "            word = []\n",
    "            entity = []\n",
    "            \n",
    "        if tag in begin_tags or tag in inside_tags:\n",
    "            word.append(token)\n",
    "            entity.append(tag)\n",
    "            \n",
    "    if word:\n",
    "        words.append(' '.join(word))\n",
    "        entities.append(' ', join(entity))\n",
    "\n",
    "    return words, entities\n",
    "\n",
    "print(form_complete_ne(train_dataset, 5969))"
   ]
  },
  {
   "cell_type": "markdown",
   "id": "d993038a-ba60-46fa-a49a-78ce94a8a91c",
   "metadata": {},
   "source": [
    "# EDA on train dataset"
   ]
  },
  {
   "cell_type": "code",
   "execution_count": 8,
   "id": "0751cc92-4bc8-4e9c-8fc3-82a1d73531fb",
   "metadata": {},
   "outputs": [],
   "source": [
    "from collections import Counter\n",
    "import matplotlib.pyplot as plt\n",
    "import numpy as np"
   ]
  },
  {
   "cell_type": "code",
   "execution_count": 9,
   "id": "8cf49aed-507d-41e7-9356-d3538de3d5bd",
   "metadata": {},
   "outputs": [
    {
     "name": "stdout",
     "output_type": "stream",
     "text": [
      "Basic info about the training corpora:\n",
      "=======================================================================\n",
      "Number of sentences:  14987\n",
      "Total NER tags:  8\n",
      "Number of common words with frequency > 10:  2254\n",
      "Number of unique words in corpus:  23624\n",
      "Average sentence length:  13.649629679055181\n"
     ]
    }
   ],
   "source": [
    "# Flattening the lists of tokens and tags\n",
    "all_tokens = [token for sentence in train_dataset['tokens'] for token in sentence]\n",
    "all_tags = [tag for sentence_tags in train_dataset['ner_tags'] for tag in sentence_tags]\n",
    "\n",
    "word_frequencies = Counter(all_tokens)\n",
    "common_words_gt_10 = {word: freq for word, freq in word_frequencies.items() if freq > 10}\n",
    "unique_words = set(all_tokens)\n",
    "\n",
    "sentence_lengths = [len(sentence) for sentence in train_dataset['tokens']]\n",
    "average_sentence_length = sum(sentence_lengths) / len(sentence_lengths)\n",
    "\n",
    "print(\"Basic info about the training corpora:\")\n",
    "print(\"=======================================================================\")\n",
    "print(\"Number of sentences: \", train_dataset.num_rows)\n",
    "print(\"Total NER tags: \", len(label_list))\n",
    "print(\"Number of common words with frequency > 10: \", len(common_words_gt_10))\n",
    "print(\"Number of unique words in corpus: \", len(unique_words))\n",
    "print(\"Average sentence length: \", average_sentence_length)"
   ]
  },
  {
   "cell_type": "code",
   "execution_count": 35,
   "id": "89bb218c-f73b-4294-a9ad-e1f653fb3ddb",
   "metadata": {},
   "outputs": [
    {
     "data": {
      "image/png": "[encoded data removed]",
      "text/plain": [
       "<Figure size 1000x600 with 1 Axes>"
      ]
     },
     "metadata": {},
     "output_type": "display_data"
    }
   ],
   "source": [
    "# Plot Number of Words per Sentence\n",
    "sentence_lengths = [len(sentence) for sentence in train_dataset['tokens']]\n",
    "plt.figure(figsize=(10, 6))\n",
    "# plt.hist(sentence_lengths, bins=np.arange(1, max(sentence_lengths) + 1) - 0.5, edgecolor=\"k\")\n",
    "plt.hist(sentence_lengths, bins=np.arange(1, 60 + 1) - 0.5, edgecolor=\"k\", color='lightgreen')\n",
    "plt.title('Number of Words per Sentence')\n",
    "plt.xlabel('Number of Words')\n",
    "plt.ylabel('Frequency')\n",
    "plt.show()"
   ]
  },
  {
   "cell_type": "code",
   "execution_count": 28,
   "id": "6c1508d7-a140-4c93-8711-a1270c637393",
   "metadata": {},
   "outputs": [
    {
     "data": {
      "text/plain": [
       "{'I-ORG': 10001,\n",
       " 'O': 170524,\n",
       " 'I-MISC': 4558,\n",
       " 'I-PER': 11128,\n",
       " 'I-LOC': 8286,\n",
       " 'B-LOC': 11,\n",
       " 'B-MISC': 35,\n",
       " 'B-ORG': 24}"
      ]
     },
     "execution_count": 28,
     "metadata": {},
     "output_type": "execute_result"
    }
   ],
   "source": [
    "tags_counter = Counter(all_tags)\n",
    "\n",
    "# map number to strings\n",
    "num_to_str_label_map = {v: k for k, v in label_map.items()}\n",
    "\n",
    "# convert numerical labels to string labels\n",
    "tags_counter_str = {num_to_str_label_map[num]: count for num, count in tags_counter.items()}\n",
    "tags_counter_str"
   ]
  },
  {
   "cell_type": "code",
   "execution_count": 29,
   "id": "628bfa85-7af2-4fb2-b45d-cc72f6035ce8",
   "metadata": {},
   "outputs": [
    {
     "data": {
      "image/png": "[encoded data removed]",
      "text/plain": [
       "<Figure size 1000x500 with 1 Axes>"
      ]
     },
     "metadata": {},
     "output_type": "display_data"
    }
   ],
   "source": [
    "# Sorting the tags counter by count for better visualization\n",
    "tags_counter_sorted = dict(sorted(tags_counter_str.items(), key=lambda item: item[1]))\n",
    "\n",
    "# Creating the bar plot with a logarithmic y-axis\n",
    "plt.figure(figsize=(10, 5))\n",
    "bars = plt.bar(tags_counter_sorted.keys(), tags_counter_sorted.values(), color='skyblue')\n",
    "\n",
    "# Highlighting the 'B-' tags\n",
    "for bar, label in zip(bars, tags_counter_sorted.keys()):\n",
    "    if label.startswith('B-'):\n",
    "        bar.set_color('salmon')\n",
    "\n",
    "plt.yscale('log')\n",
    "plt.xlabel('NER Tag')\n",
    "plt.ylabel('Count of Words (Log Scale)')\n",
    "plt.title('Count of Words vs NER Tag (Log Scale)')\n",
    "plt.tight_layout()\n",
    "\n",
    "# Adding annotations for the 'B-' tags\n",
    "for label, count in tags_counter_sorted.items():\n",
    "    if label.startswith('B-'):\n",
    "        plt.text(label, count, f'{count}', ha='center', va='bottom')\n",
    "\n",
    "# Show the plot\n",
    "plt.show()"
   ]
  },
  {
   "cell_type": "code",
   "execution_count": null,
   "id": "3093241f-ed65-4106-8920-81120c4c9626",
   "metadata": {},
   "outputs": [],
   "source": []
  }
 ],
 "metadata": {
  "kernelspec": {
   "display_name": "sc4002",
   "language": "python",
   "name": "sc4002"
  },
  "language_info": {
   "codemirror_mode": {
    "name": "ipython",
    "version": 3
   },
   "file_extension": ".py",
   "mimetype": "text/x-python",
   "name": "python",
   "nbconvert_exporter": "python",
   "pygments_lexer": "ipython3",
   "version": "3.8.15"
  }
 },
 "nbformat": 4,
 "nbformat_minor": 5
}
